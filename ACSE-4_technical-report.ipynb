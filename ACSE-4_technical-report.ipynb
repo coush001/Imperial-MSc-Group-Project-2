{
 "cells": [
  {
   "cell_type": "markdown",
   "metadata": {},
   "source": [
    "# ACSE-4 Project 2: A Smoothed Particle Hydrodynamics Solver"
   ]
  },
  {
   "cell_type": "markdown",
   "metadata": {},
   "source": [
    "## 1. Description"
   ]
  },
  {
   "cell_type": "markdown",
   "metadata": {},
   "source": [
    "### a. Algorithm"
   ]
  },
  {
   "cell_type": "markdown",
   "metadata": {},
   "source": [
    "Our software uses this general class structure. The SPH implementation is in `SPH_stub.py`, this file uses `particle.py` to generate the particle objects. The `simulate` function is the main function that runs in `SPH_stub.py`. It updates the particles in the `particle_list` for each time-step and writes the updated particles object in a pickle file. \n",
    "\n",
    "The pickle file can then be used as an input to the `animation.py` script and a mp4 video showing the particles moving in time is generated. \n",
    "\n",
    "Our simulation can either be run using the command line interface (with arguments; more details are given in the README file) or for the more savvy python users, we provide scripts that can be edited with the parameters i.e. \n",
    "\n",
    "On the command-line, run:\n",
    "\n",
    "`python run_simulation.py` \n",
    "\n",
    "This calls the `simulate` function and creates a pickle file called `datafile.pkl`. \n",
    "\n",
    "Then to create the video using this file generated, simpy run:\n",
    "\n",
    "`python animation.py`\n"
   ]
  },
  {
   "cell_type": "markdown",
   "metadata": {},
   "source": [
    "<img src=\"figures/class_chart.png\" style=\"width: 520px\">\n",
    "<br><br>\n",
    "The solution algorithm is written as the method *simulate* in *SPH_main*, uses many functions and returns the calculated output as a datafile, according to the diagram below.\n",
    "<img src=\"figures/overview_of_simulate_function.png\" style=\"width: 400px\">\n"
   ]
  },
  {
   "cell_type": "markdown",
   "metadata": {},
   "source": [
    "You will find below the corresponding pseudocode of the method:\n",
    "<br>\n",
    "Method simulate(self)\n",
    "<br>    t = 0\n",
    "<br>    counter = 0\n",
    "<br>While t < t_max:\n",
    "<br>    counter = counter + 1\n",
    "<br>    smooth = False\n",
    "<br>    If counter % 10 == 0:\n",
    "<br>        smooth density = True\n",
    "<br>    End if\n",
    "<br>    do scheme and smooth density\n",
    "<br>    t = t + dt\n",
    "<br>End while\n",
    "<br>End Method\n",
    "\n",
    "\n",
    "This method modifies at each time step the attributes of the particles from *particle_list* using a scheme (forward Euler or predictor corrector). These schemes use Navier-Stokes equations (getting acceleration and time derivative of density) to update all the values (position x, velocity v and density \\rho).\n",
    "It returns ... which is then treated in order to do the animation.\n",
    "\n",
    "\n",
    "SPH_main:\n",
    "=> main simulation loops + simulation steps required within these loops\n",
    "\n",
    "*simulate*:\n",
    "simulate (while loop) => forward euler or predictor corrector (one time step) => navier stokes (calculating acceleration and time derivative of density) => saving at each time step in a file the current time and the particle with its attributes updated.\n",
    "\n",
    "\n",
    "then: production of data file + animation (video .mp4)"
   ]
  },
  {
   "cell_type": "markdown",
   "metadata": {},
   "source": [
    "## 2.  Optimisation"
   ]
  },
  {
   "cell_type": "markdown",
   "metadata": {},
   "source": [
    "### a. Optimising the computational time"
   ]
  },
  {
   "cell_type": "markdown",
   "metadata": {},
   "source": [
    "To make the computational time quicker, we implemented a **stencil** to half the time taken to get the neighbours of each of the particles. \n",
    "\n",
    "The diagram below shows us a picture of how the stencil looked and which buckets we will be calculating the neighbours from. \n",
    "\n",
    "<img src=\"figures/stencil.png\" style=\"width: 300px\">"
   ]
  },
  {
   "cell_type": "markdown",
   "metadata": {},
   "source": [
    "** Video of FE with stencil and without stencil **"
   ]
  },
  {
   "cell_type": "markdown",
   "metadata": {},
   "source": [
    "Therefore, we can see that our stencil nearly halves the computational time, which was the goal. This is extremely important especially when running on a finer mesh grid (e.g. $\\Delta x = 0.2$), since python takes a *very* long time, finding a way to optimise is necessary."
   ]
  },
  {
   "cell_type": "markdown",
   "metadata": {},
   "source": [
    "### b. Improving accuracy"
   ]
  },
  {
   "cell_type": "markdown",
   "metadata": {},
   "source": [
    "The forward-euler method is only first-order method. However, it is necessary for us to have a more accurate method in time as so we implemented the predictor-corrector method. This method is second-order accurate and uses 2 steps to get a full step and is part of the Runga-Kutta family.\n",
    "\n",
    "**Implementation**\n",
    "The pseudo-code: \n",
    "\n",
    "**TODO pseudo code**\n",
    "\n",
    "We can look at the predictor-corrector method as a 2-step forward euler time step. So, in our code, we used our forward-euler function and ran it twice in a for-loop. We have defined different equations (from half and full step of P-C method) and these equations change according to n in the for-loop.   Also, we added extra attributes to each particle in order to store the velocity and position at the previous half-step. "
   ]
  },
  {
   "cell_type": "markdown",
   "metadata": {},
   "source": [
    "** Difference between FE and PC video**\n",
    "** Parameters used in the videos**"
   ]
  },
  {
   "cell_type": "markdown",
   "metadata": {},
   "source": [
    "#### Comparison between FE and PC schemes"
   ]
  },
  {
   "cell_type": "markdown",
   "metadata": {},
   "source": [
    "##### Simulation using FE scheme"
   ]
  },
  {
   "cell_type": "markdown",
   "metadata": {},
   "source": [
    "<video controls src=\"figures/FE.mp4\" />"
   ]
  },
  {
   "cell_type": "markdown",
   "metadata": {},
   "source": [
    "##### Simulation using PC scheme"
   ]
  },
  {
   "cell_type": "markdown",
   "metadata": {},
   "source": [
    "<video controls src=\"figures/Predictor-corrector.mp4\" />"
   ]
  },
  {
   "cell_type": "markdown",
   "metadata": {},
   "source": [
    "These videos show us the difference in behaviour of the particles using the different schemes. The Predictor-Corrector method seems to be more realistic, but runs slower. This is expected as P-C takes 2 half-steps while FE only takes one, so although the accuracy has increased, we lose some computational time. "
   ]
  },
  {
   "cell_type": "markdown",
   "metadata": {},
   "source": [
    "# 3. Issues faced"
   ]
  },
  {
   "cell_type": "markdown",
   "metadata": {},
   "source": [
    "We faced an issue regarding the particles leaking out of the system, as seen in the following video.\n",
    "<video controls src=\"figures/leak.mp4\" />\n",
    "\n"
   ]
  },
  {
   "cell_type": "markdown",
   "metadata": {},
   "source": [
    "We enforced a repulsive force on the wall to stop this from happening. The pseudo-code we based our implementation on is written below:\n",
    "\n",
    "**pseudo code**\n",
    "\n",
    "We make the system quasi-incompressible by introducing a $P_{ref} =f(\\frac{\\rho}{\\rho_{0}} = 1.02)$, where $f$ is a function. Also, note that we check that the (orthogonal) distance of a fluid particle to the wall is less than $0.9 \\Delta x$. We do not want the value to be greater or equal to 1 so that the repulsive force from the wall particles would not affect particles that are not close to them (and not their neighbours). Secondly, we did not choose a value lower to ensure that the particle would be affected by the boundary and not slip through a wall unnoticed. "
   ]
  },
  {
   "cell_type": "markdown",
   "metadata": {},
   "source": [
    "## 2. Demonstration"
   ]
  },
  {
   "cell_type": "raw",
   "metadata": {},
   "source": [
    "** Pressure video **\n",
    "** Velocity video **\n"
   ]
  },
  {
   "cell_type": "markdown",
   "metadata": {},
   "source": [
    "## 3. Checking the software output"
   ]
  },
  {
   "cell_type": "markdown",
   "metadata": {},
   "source": [
    "The parameters we use are the following:\n",
    "<br>\n",
    "max_x = (10, 7), dx = 0.5, h_fac = 1.3, t0 = 0.0, t_max = 1.5\n",
    "<br>\n",
    "All other parameters are default values.\n",
    "\n",
    "To generate this simulation, we use FE scheme.\n",
    "<img src=\"figures/crest_and_height_time.png\" style=\"width: 700px\">\n",
    "\n",
    "We can see on these figures the location of the crest and the wave height which change with time.\n",
    "<br>\n",
    "We calculated the average wave velocity value using this line:\n",
    "**velocities = np.mean(np.array([np.linalg.norm(p.v) for p in max_particles]))**.\n",
    "<br>\n",
    "The average wave velocity calculated from the location of the crest is $2.24 m/s$.\n",
    "In comparison, the expected shallow water wave speed is of $ \\sqrt{gh_0} = 4.90 m/s$.\n",
    "\n",
    "We notice that the calculated average wave velocity from the simulation is less than the expected wave speed.\n",
    "For this, there could be some explanations. Indeed, when the simulated wave hits a wall, its velocity decreases, in contrast to the idealised wave which travels freely. Also, the simulated wave's waveshape is obviously not ideal.\n"
   ]
  },
  {
   "cell_type": "markdown",
   "metadata": {},
   "source": [
    "## 4. Convergence analysis"
   ]
  },
  {
   "cell_type": "markdown",
   "metadata": {},
   "source": [
    "To do the convergence study, we change the resolution $\\Delta{x}$ and we check the time when the wave traverse the domain and hits the wall for the first time.\n",
    "Since we were running out of time, we decided to calculate the convergence of $\\Delta{x}$ and time using a very approximate method. We would generate the video of the simulation with stop time approximately after the wave hits the boundary.\n",
    "We would then \"eyeball\" the time where the wave would hit the boundary. \n",
    "\n",
    "Admittedly, with a larger $\\Delta{x}$, estimating the time was easier to do and got progressively harder as the $\\Delta{x}$ decreased since there were more particles.\n",
    "\n",
    "<img src=\"figures/convergence_analysis.png\" style=\"width: 500px\">\n",
    "\n",
    "According to a technical report by Hu, Pan, Rakhsha and Negrut, SPH method is second-order accurate. Our convergence analysis shows an order of accuracy of 1.45. Such a result could be explained by our very approximative method to get our time values at different resolutions, which prevents us to get the desired order of 2."
   ]
  },
  {
   "cell_type": "markdown",
   "metadata": {},
   "source": [
    "## 5. Artificial Pressure"
   ]
  },
  {
   "cell_type": "code",
   "execution_count": null,
   "metadata": {},
   "outputs": [],
   "source": []
  }
 ],
 "metadata": {
  "celltoolbar": "Slideshow",
  "kernelspec": {
   "display_name": "Python 3",
   "language": "python",
   "name": "python3"
  },
  "language_info": {
   "codemirror_mode": {
    "name": "ipython",
    "version": 3
   },
   "file_extension": ".py",
   "mimetype": "text/x-python",
   "name": "python",
   "nbconvert_exporter": "python",
   "pygments_lexer": "ipython3",
   "version": "3.6.5"
  },
  "latex_envs": {
   "LaTeX_envs_menu_present": true,
   "autoclose": true,
   "autocomplete": true,
   "bibliofile": "biblio.bib",
   "cite_by": "apalike",
   "current_citInitial": 1,
   "eqLabelWithNumbers": true,
   "eqNumInitial": 1,
   "hotkeys": {
    "equation": "Ctrl-E",
    "itemize": "Ctrl-I"
   },
   "labels_anchors": false,
   "latex_user_defs": false,
   "report_style_numbering": false,
   "user_envs_cfg": true
  },
  "toc": {
   "base_numbering": 1,
   "nav_menu": {},
   "number_sections": true,
   "sideBar": true,
   "skip_h1_title": false,
   "title_cell": "Table of Contents",
   "title_sidebar": "Contents",
   "toc_cell": true,
   "toc_position": {},
   "toc_section_display": true,
   "toc_window_display": false
  }
 },
 "nbformat": 4,
 "nbformat_minor": 1
}
