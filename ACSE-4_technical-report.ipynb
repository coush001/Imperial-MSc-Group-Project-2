{
 "cells": [
  {
   "cell_type": "markdown",
   "metadata": {},
   "source": [
    "# ACSE-4 Project 2: A Smoothed Particle Hydrodynamics Solver"
   ]
  },
  {
   "cell_type": "markdown",
   "metadata": {},
   "source": [
    "# 1. Description"
   ]
  },
  {
   "cell_type": "markdown",
   "metadata": {},
   "source": [
    "### a. Algorithm"
   ]
  },
  {
   "cell_type": "markdown",
   "metadata": {},
   "source": [
    "Our software uses this general class structure. The SPH implementation is in `SPH_stub.py`, this file uses `particle.py` to generate the particle objects. The `simulate` function is the main function that runs in `SPH_stub.py`. It updates the particles in the `particle_list` for each time-step and writes the updated particles object in a pickle file. \n",
    "\n",
    "The pickle file can then be used as an input to the `animation.py` script and a mp4 video showing the particles moving in time is generated. \n",
    "\n",
    "Our simulation can either be run using the command line interface (with arguments; more details are given in the README file) or for the more savvy python users, we provide scripts that can be edited with the parameters i.e. \n",
    "\n",
    "On the command-line, run:\n",
    "\n",
    "`python run_simulation.py` \n",
    "\n",
    "This calls the `simulate` function and creates a pickle file called `datafile.pkl`. \n",
    "\n",
    "Then to create the video using this file generated, simpy run:\n",
    "\n",
    "`python animation.py`\n"
   ]
  },
  {
   "cell_type": "markdown",
   "metadata": {},
   "source": [
    "<img src=\"figures/class_chart.png\" style=\"width: 520px\">\n",
    "<br><br>\n",
    "The solution algorithm is written as the method *simulate* in *SPH_main*, uses many functions and returns the calculated output as a datafile, according to the diagram below.\n",
    "<img src=\"figures/overview_of_simulate_function.png\" style=\"width: 400px\">\n"
   ]
  },
  {
   "cell_type": "markdown",
   "metadata": {},
   "source": [
    "Our `simulate` function calls the different time-step methods (depending on which is specified). The schemes then call the smoothing function if the time is at the 10th time step. We then call the `neighbour_iterate` function and update the acceleration and the derivative of the density using the `navier_cont` function. "
   ]
  },
  {
   "cell_type": "markdown",
   "metadata": {},
   "source": [
    "You will find below the corresponding pseudocode of the method:\n",
    "<br>\n",
    "`\n",
    "Method simulate(self)\n",
    "    t = t0\n",
    "    time_array = [t]\n",
    "    allocate all particles to grid\n",
    "    cnt = 0\n",
    "    creating a file\n",
    "    If a file of the same name already exists:\n",
    "        delete file\n",
    "    Generating a progressbar\n",
    "    i = 0\n",
    "    count = 0\n",
    "    max_speed = 0.0   \n",
    "    While t < t_max:\n",
    "        cnt = cnt + 1\n",
    "        smooth = False\n",
    "        If cnt % 10 == 0:\n",
    "             Smoothing density must be done\n",
    "        Perform scheme (forward Euler or Predictor-corrector) and smooth density\n",
    "        Calculate max speed for printing results\n",
    "        t = t + dt\n",
    "        Save file every n dt\n",
    "        Updating progressbar\n",
    "    Find out how many particles have leaked from last particle_list\n",
    "`"
   ]
  },
  {
   "cell_type": "markdown",
   "metadata": {},
   "source": [
    "### b. How we deal with the output of our simulation"
   ]
  },
  {
   "cell_type": "markdown",
   "metadata": {},
   "source": [
    "Given that the data volume is pretty huge, in order to save and load it of high efficiency, we import pickle module to save and load files instead of traditional csv. Pickle has the advantage of convenience -- it can serialize arbitrary object with no extra work, and works on a pretty broad range of Python types. It is also smart in that it will only write out any single object once, making it effective to store complex structures because it will write the pickled object in a more efficient binary format, instead of the human-readable format.\n",
    "\n",
    "The user will get the .pkl format files in the directory. The file saves the output data used for subsequent post-processing and for animation according to the user set simulation time output interval n, which is the parameter defined in the function of simulation. When the simulation function generates the new data, it will be dumped into the file immediately. So even if the function breaks down for some reasons in the midway, we can still obtain the data, which to some extent, improves the sustainability of our software."
   ]
  },
  {
   "cell_type": "markdown",
   "metadata": {},
   "source": [
    "### c. Visualisation of our simulation"
   ]
  },
  {
   "cell_type": "markdown",
   "metadata": {},
   "source": [
    "**Plot the initial state**\n",
    "\n",
    "Now using `matplotlib.pyplot.plot` to plot all particle position.\n",
    "\n",
    "The logic goes as: if it is a boundary particle, it becomes black;\n",
    "\n",
    "             if it is not a boundary particle, it becomes blue.\n",
    "\n",
    "This time the visualization runs just after data is generate, without read and load file.\n",
    "\n",
    "**Using plot to generate animation**\n",
    "\n",
    "Write an animation function to update every state. Update the plot every time when there is a new data.\n",
    "\n",
    "Now the animation is still doing without saving and loading, just for numerical group members to get a sense of how the particle goes.\n",
    "\n",
    "The color can't relate to the value such as pressure, velocity now.\n",
    "\n",
    "The interval should be set as $1000*DataInterval$\n",
    "\n",
    "**Using ffmpeg to generate the video for animation**\n",
    "\n",
    "To get a video.mp4 kinds of thing, the animation should be output and transfered to that.\n",
    "\n",
    "To use ffmpeg tools, first the path of computer should be edited, add the path/bin/ffmpeg.exe to the path then it could work.\n",
    "\n",
    "The FPS of output is related to the time interval the data is output. For example, if the time interval is $dt$, the FPS should be set as $$1/(dt)$$\n",
    "\n",
    "**Adding a progressbar**\n",
    "\n",
    "We really want to know the progress of simulation, so I add a progressbar to show it.\n",
    "\n",
    "The progressbar is settle in the main class.simuate. Every time one step simulation is done, the progresssbar update the percentage it finished, the time has run and the expected time to finish.\n",
    "\n",
    "This one make our life easier and always get an idea how fast our simulation is running.\n",
    "\n",
    "**Merge the file operation**\n",
    "\n",
    "Add save and load file to fetch the data. Thanks to pickle, the structure of data remain same.\n",
    "\n",
    "In animation, the data is store in x_data, pressure... All kinds of list for making animation.\n",
    "\n",
    "The process to make it to animation and output to mp4 is same as before.\n",
    "\n",
    "**Using scatter plot for color operation**\n",
    "\n",
    "Because using plt.plot can't change the color of each point every time step freely, I rewrite the animation part by using scatter, the basic logic is the same.\n",
    "\n",
    "As for color, I define a function to determain them into RGB array. As I want the color to go red when the data value is relatively high and color goes blue when data value is relatively low, I fix the value for Green, set the value for Red goes larger when the value of Blue goes smaller. The relative value of every data is added with abs() to prevent something like negative pressure.\n",
    "\n",
    "## Improve the stability and add more operation\n",
    "\n",
    "Create a file to store the number that pickle doing dump and read it when doing loading to improve stability.\n",
    "\n",
    "Coperate with the numerical part and tried a more rubust way to store the data.\n",
    "\n",
    "Add some code to make the animation for not only pressure - color, but also velocity and density."
   ]
  },
  {
   "cell_type": "markdown",
   "metadata": {},
   "source": [
    "# 2.  Optimisation"
   ]
  },
  {
   "cell_type": "markdown",
   "metadata": {},
   "source": [
    "### a. Optimising the computational time: Stencil"
   ]
  },
  {
   "cell_type": "markdown",
   "metadata": {},
   "source": [
    "To make the computational time quicker, we implemented a **stencil** to half the time taken to get the neighbours of each of the particles. \n",
    "\n",
    "The diagram below shows us a picture of how the stencil looked and which buckets we will be calculating the neighbours from. \n",
    "\n",
    "<img src=\"figures/stencil.png\" style=\"width: 300px\">\n",
    "\n",
    "The original neighbour searching algorithm looped through every particle and every particle neighbour to find the navier stokes force contribution for each particle from each pair. This algorithm is very inefficient and has a cost complexity of $O(N^2)$. In order to implement a more efficient algorithm we take the knowledge that the acceleration force contribution on particle i from neighbour j, is exactly opposite in direction but same in magnitude onto neighbour j. The contribution to the density term for each particle is the same on i and j.\n",
    "\n",
    "Using this knowledge we can implement an algorithm where we only ever have to calculate the relationship between two nearby particles once. To do this we only search for neighbouring particles in a particular stencil (see image below), and for every iteration add the force contribution to both the particles and the neighbour. After the whole loop every particle will have aggregated the force contributions from every near neighbour.\n",
    "\n",
    "One important thing to note:\n",
    "\n",
    "The forces are only added to the neighbouring particle if the neighbouring particle does not share the same bucket. This is to prevent double duplication of forces in the same bucket. A way we could have further optimised this is to add forces to neighbouring particles in the same bucket but only if the neighbouring particle had not already been read in the for loop.\n",
    "\n",
    "Overall this stencil searching algorithm roughly halved our computational time for each simulation."
   ]
  },
  {
   "cell_type": "markdown",
   "metadata": {},
   "source": [
    "** Video of FE with stencil and without stencil **"
   ]
  },
  {
   "cell_type": "markdown",
   "metadata": {},
   "source": [
    "Therefore, we can see that our stencil nearly halves the computational time, which was the goal. This is extremely important especially when running on a finer mesh grid (e.g. $\\Delta x = 0.2$), since python takes a *very* long time, finding a way to optimise is necessary."
   ]
  },
  {
   "cell_type": "markdown",
   "metadata": {},
   "source": [
    "### b. Improving accuracy"
   ]
  },
  {
   "cell_type": "markdown",
   "metadata": {},
   "source": [
    "The forward-euler method is only first-order method. However, it is necessary for us to have a more accurate method in time as so we implemented the predictor-corrector method. This method is second-order accurate and uses 2 steps to get a full step and is part of the Runga-Kutta family.\n",
    "\n",
    "The pseudo-code: \n",
    "<br>\n",
    "`\n",
    "Method predictor_corrector(self, particles, smooth = False)\n",
    "    For n in range(2):\n",
    "        If we have to smooth density:\n",
    "            Smoothing density\n",
    "        For each particle:\n",
    "            Applying Navier-Stokes equations and continuity equation\n",
    "        Clearing grid\n",
    "    If n == 0:\n",
    "        For each particle:\n",
    "            if not a boundary particle:\n",
    "                store previous values from the particle\n",
    "                perform predictor-corrector update on position and velocity for half step\n",
    "                reassign each particle to a bucket\n",
    "            perform predictor-corrector update on density for half step\n",
    "            Fill grid and update pressure\n",
    "            Set acceleration to g initially for next loop\n",
    "            Set derivative of density to 0 initially for next loop     \n",
    "    If n == 1:\n",
    "        For each particle:\n",
    "            if not a boundary particle:\n",
    "                perform predictor-corrector update on position and velocity for full step\n",
    "                reassign each particle to a bucket\n",
    "            perform predictor-corrector update on density for full step\n",
    "            Fill grid and update pressure\n",
    "            Set acceleration to g initially for next loop\n",
    "            Set derivative of density to 0 initially for next loop\n",
    "`\n",
    "\n",
    "\n",
    "We can look at the predictor-corrector method as a 2-step forward euler time step. So, in our code, we used our forward-euler function and ran it twice in a for-loop. We have defined different equations (from half and full step of P-C method) and these equations change according to n in the for-loop.   Also, we added extra attributes to each particle in order to store the velocity and position at the previous half-step. "
   ]
  },
  {
   "cell_type": "markdown",
   "metadata": {},
   "source": [
    "#### Comparison between FE and PC schemes"
   ]
  },
  {
   "cell_type": "markdown",
   "metadata": {},
   "source": [
    "** Parameters used in the videos**\n",
    "\n",
    "`x_max = (10, 7)\n",
    "dx = 0.5\n",
    "t_max = 2 \n",
    "`"
   ]
  },
  {
   "cell_type": "markdown",
   "metadata": {},
   "source": [
    "##### Simulation using FE scheme"
   ]
  },
  {
   "cell_type": "markdown",
   "metadata": {},
   "source": [
    "<video controls src=\"figures/FE.mp4\" />"
   ]
  },
  {
   "cell_type": "markdown",
   "metadata": {},
   "source": [
    "##### Simulation using PC scheme"
   ]
  },
  {
   "cell_type": "markdown",
   "metadata": {},
   "source": [
    "<video controls src=\"figures/Predictor-corrector.mp4\" />"
   ]
  },
  {
   "cell_type": "markdown",
   "metadata": {},
   "source": [
    "These videos show us the difference in behaviour of the particles using the different schemes. The Predictor-Corrector method seems to be more realistic, but runs slower. This is expected as P-C takes 2 half-steps while FE only takes one, so although the accuracy has increased, we lose some computational time. "
   ]
  },
  {
   "cell_type": "markdown",
   "metadata": {},
   "source": [
    "The parameters we use are the following:\n",
    "\n",
    "`\n",
    "max_x = (10, 7), dx = 0.5, h_fac = 1.3, t0 = 0.0, t_max = 1.5\n",
    "`\n",
    "All other parameters are default values.\n",
    "\n",
    "To generate this simulation, we use FE scheme.\n",
    "<img src=\"figures/crest_and_height_time.png\" style=\"width: 700px\">\n",
    "\n",
    "We can see on these figures the location of the crest and the wave height which change with time.\n",
    "<br>\n",
    "We calculated the average wave velocity value using this line:\n",
    "**velocities = np.mean(np.array([np.linalg.norm(p.v) for p in max_particles]))**.\n",
    "<br>\n",
    "The average wave velocity calculated from the location of the crest is $2.24 m/s$.\n",
    "In comparison, the expected shallow water wave speed is of $ \\sqrt{gh_0} = 4.90 m/s$.\n",
    "\n",
    "We notice that the calculated average wave velocity from the simulation is less than the expected wave speed.\n",
    "For this, there could be some explanations. Indeed, when the simulated wave hits a wall, its velocity decreases, in contrast to the idealised wave which travels freely. Also, the simulated wave's waveshape is obviously not ideal.\n"
   ]
  },
  {
   "cell_type": "markdown",
   "metadata": {},
   "source": [
    "# 3. Issues faced"
   ]
  },
  {
   "cell_type": "markdown",
   "metadata": {},
   "source": [
    "We faced an issue regarding the particles leaking out of the system, as seen in the following video.\n",
    "<video controls src=\"figures/leak.mp4\" />\n"
   ]
  },
  {
   "cell_type": "markdown",
   "metadata": {},
   "source": [
    "We enforced a **repulsive force** on the wall to stop this from happening. The pseudo-code we based our implementation on is written below:\n",
    "\n",
    "In the `navier_cont` function:\n",
    "<br>\n",
    "`\n",
    "For all particles near wall:\n",
    "    For all walls:\n",
    "        normal to wall (vector)\n",
    "        Calculate distance to wall\n",
    "        q = distance / (0.75*dx)\n",
    "        If  0 < q < 1:\n",
    "            if q < 0.04:\n",
    "                q = 0.04\n",
    "            add a value da to the current acceleration\n",
    "`\n",
    "\n",
    "\n",
    "We make the system quasi-incompressible by introducing a $P_{ref} =f(\\frac{\\rho}{\\rho_{0}} = 1.02)$, where $f$ is a function. Also, note that we check that the (orthogonal) distance of a fluid particle to the wall is less than $0.9 \\Delta x$. We do not want the value to be greater or equal to 1 so that the repulsive force from the wall particles would not affect particles that are not close to them (and not their neighbours). Secondly, we did not choose a value lower to ensure that the particle would be affected by the boundary and not slip through a wall unnoticed. \n",
    "\n",
    "However, even with the repulsive force added to the wall of the boundary, this did not prevent some particles from leaking. So we needed a way to handle leaks so that our code does not break every time we have a leak. We decided to let the particles leave the boundary without having errors. As we will see later in the main demonstration, the repulsive force implementation can cause some interesting errors regarding the leakage of the particles. "
   ]
  },
  {
   "cell_type": "markdown",
   "metadata": {},
   "source": [
    "# 4. Demonstration of the software"
   ]
  },
  {
   "cell_type": "markdown",
   "metadata": {},
   "source": [
    "** Plotting the pressure of the particles each time-step **\n",
    "<video controls src=\"figures/Pressure_video.mp4\" />"
   ]
  },
  {
   "cell_type": "markdown",
   "metadata": {},
   "source": [
    "** Plotting the density of the particles each time-step **\n",
    "<video controls src=\"figures/Rho_video.mp4\" />"
   ]
  },
  {
   "cell_type": "markdown",
   "metadata": {},
   "source": [
    "** Plotting the velocity of the particles each time-step **\n",
    "<video controls src=\"figures/Velocity_video.mp4\" />"
   ]
  },
  {
   "cell_type": "markdown",
   "metadata": {},
   "source": [
    "### The issue with very fine initial grid space"
   ]
  },
  {
   "cell_type": "markdown",
   "metadata": {},
   "source": [
    "When we test with $\\Delta{x} = 0.2$, we get the following video: \n",
    "<video controls src=\"figures/Velocity_video.mp4\" />"
   ]
  },
  {
   "cell_type": "markdown",
   "metadata": {},
   "source": [
    "**Instability**\n",
    "\n",
    "We have found that our code has a large instality when run on a fine intial dx space. The instability is initiated by particles that clump on the left wall. These particles clearly have an atractive force to the wall and start ocillating towards the wall. The particles also develop an anomously low density due to being isolated from the main body of water.\n",
    "\n",
    "The boundary forcing pushes the particles out from the wall, and the anonamously low density of the particles causes a large attractive force from the particles to the wall. These particales eventually oscillate so close to the wall that the boundary forcing term is so large is reppells the particles with enormous force into the rest of the fluid body and completely disrupts the simulation."
   ]
  },
  {
   "cell_type": "markdown",
   "metadata": {},
   "source": [
    "# 5. Checking the software output using the expected shallow water wave speed"
   ]
  },
  {
   "cell_type": "markdown",
   "metadata": {},
   "source": [
    "# 6. Convergence analysis"
   ]
  },
  {
   "cell_type": "markdown",
   "metadata": {},
   "source": [
    "To do the convergence study, we change the resolution $\\Delta{x}$ and we check the time when the wave traverse the domain and hits the wall for the first time.\n",
    "Since we were running out of time, we decided to calculate the convergence of $\\Delta{x}$ and time using a very approximate method. We would generate the video of the simulation with stop time approximately after the wave hits the boundary.\n",
    "We would then \"eyeball\" the time where the wave would hit the boundary. \n",
    "\n",
    "Admittedly, with a larger $\\Delta{x}$, estimating the time was easier to do and got progressively harder as the $\\Delta{x}$ decreased since there were more particles.\n",
    "\n",
    "<img src=\"figures/convergence_analysis.png\" style=\"width: 500px\">\n",
    "\n",
    "According to a technical report by Hu, Pan, Rakhsha and Negrut, SPH method is second-order accurate. Our convergence analysis shows an order of accuracy of 1.45. Such a result could be explained by our very approximative method to get our time values at different resolutions, which prevents us to get the desired order of 2."
   ]
  },
  {
   "cell_type": "markdown",
   "metadata": {},
   "source": [
    "# 7. Artificial Pressure"
   ]
  },
  {
   "cell_type": "markdown",
   "metadata": {},
   "source": [
    "A common issue with SPH codes is the “clumping” of fluid structures into local groups. In order to combat this problem there has been proposal of a addition of an artificial pressure term in the literature:\n",
    "\n",
    "https://ac.els-cdn.com/S0021999100964398/1-s2.0-S0021999100964398-main.pdf?_tid=a6294837-e03d-4468-bc06-1acdf05cd854&acdnat=1544786533_9804250bcc3ad6c4fa850effddf67d25\n",
    "(Monaghan, J. (2000). SPH without a Tensile Instability. Journal of Computational Physics, 159(2), pp.290-311.).\n",
    "\n",
    "The equations proposed here add a forcing term when particles get too close to eachother. The term utilises the same smoothing kernel as used in our main code so is very easy to integrate into our function at each particle-neighbour interaction.\n",
    "\n",
    "The additional term  $$ Rf_{ab}^{n} \\ \\ in \\ equation \\ 2.4 \\ from \\ paper $$\n",
    "\n",
    "This term adds a repulsive force to each particle when they get too close.\n",
    "We use the n parameter as 4. We tune the scale of the force to get the desired result.\n",
    "\n",
    "A problem we encountered was finding the right scale to the force. Too small and the particles still show clumping. Too large and the forces cause instabillities in the simulation which end up forcing all particles out of the domain. In the end it seemed there was no perfect answer and we found that we had to allow a slight level of clumping to maintain stable code. "
   ]
  },
  {
   "cell_type": "code",
   "execution_count": null,
   "metadata": {},
   "outputs": [],
   "source": []
  }
 ],
 "metadata": {
  "celltoolbar": "Slideshow",
  "kernelspec": {
   "display_name": "Python 3",
   "language": "python",
   "name": "python3"
  },
  "language_info": {
   "codemirror_mode": {
    "name": "ipython",
    "version": 3
   },
   "file_extension": ".py",
   "mimetype": "text/x-python",
   "name": "python",
   "nbconvert_exporter": "python",
   "pygments_lexer": "ipython3",
   "version": "3.6.5"
  },
  "latex_envs": {
   "LaTeX_envs_menu_present": true,
   "autoclose": true,
   "autocomplete": true,
   "bibliofile": "biblio.bib",
   "cite_by": "apalike",
   "current_citInitial": 1,
   "eqLabelWithNumbers": true,
   "eqNumInitial": 1,
   "hotkeys": {
    "equation": "Ctrl-E",
    "itemize": "Ctrl-I"
   },
   "labels_anchors": false,
   "latex_user_defs": false,
   "report_style_numbering": false,
   "user_envs_cfg": true
  },
  "toc": {
   "base_numbering": 1,
   "nav_menu": {},
   "number_sections": true,
   "sideBar": true,
   "skip_h1_title": false,
   "title_cell": "Table of Contents",
   "title_sidebar": "Contents",
   "toc_cell": true,
   "toc_position": {},
   "toc_section_display": true,
   "toc_window_display": false
  }
 },
 "nbformat": 4,
 "nbformat_minor": 1
}
